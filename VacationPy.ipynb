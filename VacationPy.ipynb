{
 "cells": [
  {
   "cell_type": "code",
   "execution_count": 9,
   "id": "41fea945",
   "metadata": {},
   "outputs": [],
   "source": [
    "# Import the dependencies.\n",
    "import pandas as pd\n",
    "import gmaps\n",
    "import requests\n",
    "# Import the API key.\n",
    "from config import g_key"
   ]
  },
  {
   "cell_type": "code",
   "execution_count": 10,
   "id": "524a9e31",
   "metadata": {},
   "outputs": [
    {
     "data": {
      "text/html": [
       "<div>\n",
       "<style scoped>\n",
       "    .dataframe tbody tr th:only-of-type {\n",
       "        vertical-align: middle;\n",
       "    }\n",
       "\n",
       "    .dataframe tbody tr th {\n",
       "        vertical-align: top;\n",
       "    }\n",
       "\n",
       "    .dataframe thead th {\n",
       "        text-align: right;\n",
       "    }\n",
       "</style>\n",
       "<table border=\"1\" class=\"dataframe\">\n",
       "  <thead>\n",
       "    <tr style=\"text-align: right;\">\n",
       "      <th></th>\n",
       "      <th>City_ID</th>\n",
       "      <th>City</th>\n",
       "      <th>Country</th>\n",
       "      <th>Date</th>\n",
       "      <th>Lat</th>\n",
       "      <th>Lng</th>\n",
       "      <th>Max Temp</th>\n",
       "      <th>Humidity</th>\n",
       "      <th>Cloudiness</th>\n",
       "      <th>Wind Speed</th>\n",
       "    </tr>\n",
       "  </thead>\n",
       "  <tbody>\n",
       "    <tr>\n",
       "      <th>0</th>\n",
       "      <td>0</td>\n",
       "      <td>Lavrentiya</td>\n",
       "      <td>RU</td>\n",
       "      <td>2022-04-24 06:05:25</td>\n",
       "      <td>65.5833</td>\n",
       "      <td>-171.0000</td>\n",
       "      <td>27.72</td>\n",
       "      <td>86</td>\n",
       "      <td>100</td>\n",
       "      <td>2.68</td>\n",
       "    </tr>\n",
       "    <tr>\n",
       "      <th>1</th>\n",
       "      <td>1</td>\n",
       "      <td>Tasiilaq</td>\n",
       "      <td>GL</td>\n",
       "      <td>2022-04-24 06:05:26</td>\n",
       "      <td>65.6145</td>\n",
       "      <td>-37.6368</td>\n",
       "      <td>27.36</td>\n",
       "      <td>78</td>\n",
       "      <td>93</td>\n",
       "      <td>7.20</td>\n",
       "    </tr>\n",
       "    <tr>\n",
       "      <th>2</th>\n",
       "      <td>2</td>\n",
       "      <td>Visnes</td>\n",
       "      <td>NO</td>\n",
       "      <td>2022-04-24 06:05:26</td>\n",
       "      <td>59.3556</td>\n",
       "      <td>5.2242</td>\n",
       "      <td>49.82</td>\n",
       "      <td>46</td>\n",
       "      <td>0</td>\n",
       "      <td>11.50</td>\n",
       "    </tr>\n",
       "    <tr>\n",
       "      <th>3</th>\n",
       "      <td>3</td>\n",
       "      <td>Puerto Ayora</td>\n",
       "      <td>EC</td>\n",
       "      <td>2022-04-24 06:03:05</td>\n",
       "      <td>-0.7393</td>\n",
       "      <td>-90.3518</td>\n",
       "      <td>71.31</td>\n",
       "      <td>92</td>\n",
       "      <td>44</td>\n",
       "      <td>6.40</td>\n",
       "    </tr>\n",
       "    <tr>\n",
       "      <th>4</th>\n",
       "      <td>4</td>\n",
       "      <td>Arraial Do Cabo</td>\n",
       "      <td>BR</td>\n",
       "      <td>2022-04-24 06:05:27</td>\n",
       "      <td>-22.9661</td>\n",
       "      <td>-42.0278</td>\n",
       "      <td>76.35</td>\n",
       "      <td>86</td>\n",
       "      <td>1</td>\n",
       "      <td>7.72</td>\n",
       "    </tr>\n",
       "  </tbody>\n",
       "</table>\n",
       "</div>"
      ],
      "text/plain": [
       "   City_ID             City Country                 Date      Lat       Lng  \\\n",
       "0        0       Lavrentiya      RU  2022-04-24 06:05:25  65.5833 -171.0000   \n",
       "1        1         Tasiilaq      GL  2022-04-24 06:05:26  65.6145  -37.6368   \n",
       "2        2           Visnes      NO  2022-04-24 06:05:26  59.3556    5.2242   \n",
       "3        3     Puerto Ayora      EC  2022-04-24 06:03:05  -0.7393  -90.3518   \n",
       "4        4  Arraial Do Cabo      BR  2022-04-24 06:05:27 -22.9661  -42.0278   \n",
       "\n",
       "   Max Temp  Humidity  Cloudiness  Wind Speed  \n",
       "0     27.72        86         100        2.68  \n",
       "1     27.36        78          93        7.20  \n",
       "2     49.82        46           0       11.50  \n",
       "3     71.31        92          44        6.40  \n",
       "4     76.35        86           1        7.72  "
      ]
     },
     "execution_count": 10,
     "metadata": {},
     "output_type": "execute_result"
    }
   ],
   "source": [
    "# Store the CSV you saved created in part one into a DataFrame.\n",
    "city_data_df = pd.read_csv(\"weather_data/cities.csv\")\n",
    "city_data_df.head()"
   ]
  },
  {
   "cell_type": "code",
   "execution_count": 11,
   "id": "4333e694",
   "metadata": {},
   "outputs": [
    {
     "data": {
      "text/plain": [
       "City_ID         int64\n",
       "City           object\n",
       "Country        object\n",
       "Date           object\n",
       "Lat           float64\n",
       "Lng           float64\n",
       "Max Temp      float64\n",
       "Humidity        int64\n",
       "Cloudiness      int64\n",
       "Wind Speed    float64\n",
       "dtype: object"
      ]
     },
     "execution_count": 11,
     "metadata": {},
     "output_type": "execute_result"
    }
   ],
   "source": [
    "city_data_df.dtypes"
   ]
  },
  {
   "cell_type": "code",
   "execution_count": 12,
   "id": "b08f94fb",
   "metadata": {},
   "outputs": [],
   "source": [
    "# Configure gmaps to use your Google API key.\n",
    "gmaps.configure(api_key=g_key)"
   ]
  },
  {
   "cell_type": "code",
   "execution_count": 16,
   "id": "0466d965",
   "metadata": {},
   "outputs": [],
   "source": [
    "# Get the maximum temperature.\n",
    "max_temp = city_data_df[\"Max Temp\"]\n",
    "temps = []\n",
    "for temp in max_temp:\n",
    "    temps.append(max(temp, 0))"
   ]
  },
  {
   "cell_type": "code",
   "execution_count": 25,
   "id": "f0681dda",
   "metadata": {},
   "outputs": [
    {
     "data": {
      "application/vnd.jupyter.widget-view+json": {
       "model_id": "f2cc07ce1b384134881d1c2996ab696c",
       "version_major": 2,
       "version_minor": 0
      },
      "text/plain": [
       "Figure(layout=FigureLayout(height='420px'))"
      ]
     },
     "metadata": {},
     "output_type": "display_data"
    }
   ],
   "source": [
    "# Heatmap of temperature\n",
    "# Get the latitude and longitude.\n",
    "locations = city_data_df[[\"Lat\", \"Lng\"]]\n",
    "# Get the maximum temperature.\n",
    "max_temp = city_data_df[\"Max Temp\"]\n",
    "# Assign the figure variable.\n",
    "fig = gmaps.figure()\n",
    "# Assign the heatmap variable.\n",
    "heat_layer = gmaps.heatmap_layer(locations, weights=[max(temp, 0) for temp in max_temp], dissipating=False, max_intensity=300, point_radius=4)\n",
    "# Add the heatmap layer.\n",
    "fig.add_layer(heat_layer)\n",
    "# Call the figure to plot the data.\n",
    "fig"
   ]
  },
  {
   "cell_type": "code",
   "execution_count": 24,
   "id": "6e881646",
   "metadata": {},
   "outputs": [],
   "source": [
    "fig = gmaps.figure(center=(30.0, 31.0), zoom_level=1.5)"
   ]
  },
  {
   "cell_type": "code",
   "execution_count": 26,
   "id": "74ce0290",
   "metadata": {},
   "outputs": [
    {
     "data": {
      "application/vnd.jupyter.widget-view+json": {
       "model_id": "220194ba0b954054afc9c5edb83e99b0",
       "version_major": 2,
       "version_minor": 0
      },
      "text/plain": [
       "Figure(layout=FigureLayout(height='420px'))"
      ]
     },
     "metadata": {},
     "output_type": "display_data"
    }
   ],
   "source": [
    "# Heatmap of percent humidity\n",
    "locations = city_data_df[[\"Lat\", \"Lng\"]]\n",
    "humidity = city_data_df[\"Humidity\"]\n",
    "fig = gmaps.figure(center=(30.0, 31.0), zoom_level=1.5)\n",
    "heat_layer = gmaps.heatmap_layer(locations, weights=humidity, dissipating=False, max_intensity=300, point_radius=4)\n",
    "\n",
    "fig.add_layer(heat_layer)\n",
    "# Call the figure to plot the data.\n",
    "fig"
   ]
  },
  {
   "cell_type": "code",
   "execution_count": 30,
   "id": "3ea095f3",
   "metadata": {},
   "outputs": [
    {
     "data": {
      "application/vnd.jupyter.widget-view+json": {
       "model_id": "4ba68a7420ce4beabec4791a21f35210",
       "version_major": 2,
       "version_minor": 0
      },
      "text/plain": [
       "Figure(layout=FigureLayout(height='420px'))"
      ]
     },
     "metadata": {},
     "output_type": "display_data"
    }
   ],
   "source": [
    "# Heatmap of percent cloudiness\n",
    "locations = city_data_df[[\"Lat\", \"Lng\"]]\n",
    "clouds = city_data_df[\"Cloudiness\"] \n",
    "fig = gmaps.figure(center=(30.0, 31.0), zoom_level=1.5)\n",
    "heat_layer = gmaps.heatmap_layer(locations, weights=clouds, dissipating=False, max_intensity=300, point_radius=4)\n",
    "\n",
    "fig.add_layer(heat_layer)\n",
    "# Call the figure to plot the data.\n",
    "fig"
   ]
  },
  {
   "cell_type": "code",
   "execution_count": 32,
   "id": "f329bc91",
   "metadata": {},
   "outputs": [
    {
     "data": {
      "application/vnd.jupyter.widget-view+json": {
       "model_id": "5c3b7fda82e041678609344671f68488",
       "version_major": 2,
       "version_minor": 0
      },
      "text/plain": [
       "Figure(layout=FigureLayout(height='420px'))"
      ]
     },
     "metadata": {},
     "output_type": "display_data"
    }
   ],
   "source": [
    "# Heatmap of Wind Speed\n",
    "locations = city_data_df[[\"Lat\", \"Lng\"]]\n",
    "wind = city_data_df[\"Wind Speed\"] \n",
    "fig = gmaps.figure(center=(30.0, 31.0), zoom_level=1.5)\n",
    "heat_layer = gmaps.heatmap_layer(locations, weights=wind, dissipating=False, max_intensity=300, point_radius=4)\n",
    "\n",
    "fig.add_layer(heat_layer)\n",
    "# Call the figure to plot the data.\n",
    "fig"
   ]
  },
  {
   "cell_type": "code",
   "execution_count": 33,
   "id": "e08c8ad2",
   "metadata": {},
   "outputs": [
    {
     "name": "stdout",
     "output_type": "stream",
     "text": [
      "What is the minimum temperature you would like for your trip? 75\n",
      "What is the maximum temperature you would like for your trip? 90\n"
     ]
    }
   ],
   "source": [
    "# Ask the customer to add a minimum and maximum temperature value.\n",
    "min_temp = float(input(\"What is the minimum temperature you would like for your trip? \"))\n",
    "max_temp = float(input(\"What is the maximum temperature you would like for your trip? \"))"
   ]
  },
  {
   "cell_type": "code",
   "execution_count": 34,
   "id": "5cc2fbde",
   "metadata": {},
   "outputs": [
    {
     "data": {
      "text/html": [
       "<div>\n",
       "<style scoped>\n",
       "    .dataframe tbody tr th:only-of-type {\n",
       "        vertical-align: middle;\n",
       "    }\n",
       "\n",
       "    .dataframe tbody tr th {\n",
       "        vertical-align: top;\n",
       "    }\n",
       "\n",
       "    .dataframe thead th {\n",
       "        text-align: right;\n",
       "    }\n",
       "</style>\n",
       "<table border=\"1\" class=\"dataframe\">\n",
       "  <thead>\n",
       "    <tr style=\"text-align: right;\">\n",
       "      <th></th>\n",
       "      <th>City_ID</th>\n",
       "      <th>City</th>\n",
       "      <th>Country</th>\n",
       "      <th>Date</th>\n",
       "      <th>Lat</th>\n",
       "      <th>Lng</th>\n",
       "      <th>Max Temp</th>\n",
       "      <th>Humidity</th>\n",
       "      <th>Cloudiness</th>\n",
       "      <th>Wind Speed</th>\n",
       "    </tr>\n",
       "  </thead>\n",
       "  <tbody>\n",
       "    <tr>\n",
       "      <th>4</th>\n",
       "      <td>4</td>\n",
       "      <td>Arraial Do Cabo</td>\n",
       "      <td>BR</td>\n",
       "      <td>2022-04-24 06:05:27</td>\n",
       "      <td>-22.9661</td>\n",
       "      <td>-42.0278</td>\n",
       "      <td>76.35</td>\n",
       "      <td>86</td>\n",
       "      <td>1</td>\n",
       "      <td>7.72</td>\n",
       "    </tr>\n",
       "    <tr>\n",
       "      <th>7</th>\n",
       "      <td>7</td>\n",
       "      <td>Mount Isa</td>\n",
       "      <td>AU</td>\n",
       "      <td>2022-04-24 06:01:27</td>\n",
       "      <td>-20.7333</td>\n",
       "      <td>139.5000</td>\n",
       "      <td>78.57</td>\n",
       "      <td>73</td>\n",
       "      <td>100</td>\n",
       "      <td>6.91</td>\n",
       "    </tr>\n",
       "    <tr>\n",
       "      <th>8</th>\n",
       "      <td>8</td>\n",
       "      <td>Mogadishu</td>\n",
       "      <td>SO</td>\n",
       "      <td>2022-04-24 06:05:28</td>\n",
       "      <td>2.0371</td>\n",
       "      <td>45.3438</td>\n",
       "      <td>85.28</td>\n",
       "      <td>66</td>\n",
       "      <td>31</td>\n",
       "      <td>12.28</td>\n",
       "    </tr>\n",
       "    <tr>\n",
       "      <th>14</th>\n",
       "      <td>14</td>\n",
       "      <td>Lorengau</td>\n",
       "      <td>PG</td>\n",
       "      <td>2022-04-24 06:05:30</td>\n",
       "      <td>-2.0226</td>\n",
       "      <td>147.2712</td>\n",
       "      <td>82.78</td>\n",
       "      <td>77</td>\n",
       "      <td>87</td>\n",
       "      <td>7.83</td>\n",
       "    </tr>\n",
       "    <tr>\n",
       "      <th>23</th>\n",
       "      <td>23</td>\n",
       "      <td>Vaini</td>\n",
       "      <td>TO</td>\n",
       "      <td>2022-04-24 06:05:33</td>\n",
       "      <td>-21.2000</td>\n",
       "      <td>-175.2000</td>\n",
       "      <td>75.36</td>\n",
       "      <td>94</td>\n",
       "      <td>75</td>\n",
       "      <td>0.00</td>\n",
       "    </tr>\n",
       "    <tr>\n",
       "      <th>29</th>\n",
       "      <td>29</td>\n",
       "      <td>Avarua</td>\n",
       "      <td>CK</td>\n",
       "      <td>2022-04-24 06:03:59</td>\n",
       "      <td>-21.2078</td>\n",
       "      <td>-159.7750</td>\n",
       "      <td>77.05</td>\n",
       "      <td>88</td>\n",
       "      <td>100</td>\n",
       "      <td>6.91</td>\n",
       "    </tr>\n",
       "    <tr>\n",
       "      <th>33</th>\n",
       "      <td>33</td>\n",
       "      <td>Puerto El Triunfo</td>\n",
       "      <td>SV</td>\n",
       "      <td>2022-04-24 06:05:36</td>\n",
       "      <td>13.2833</td>\n",
       "      <td>-88.5500</td>\n",
       "      <td>80.44</td>\n",
       "      <td>76</td>\n",
       "      <td>80</td>\n",
       "      <td>4.36</td>\n",
       "    </tr>\n",
       "    <tr>\n",
       "      <th>37</th>\n",
       "      <td>37</td>\n",
       "      <td>Ouahigouya</td>\n",
       "      <td>BF</td>\n",
       "      <td>2022-04-24 06:01:31</td>\n",
       "      <td>13.5828</td>\n",
       "      <td>-2.4216</td>\n",
       "      <td>80.08</td>\n",
       "      <td>12</td>\n",
       "      <td>17</td>\n",
       "      <td>11.12</td>\n",
       "    </tr>\n",
       "    <tr>\n",
       "      <th>42</th>\n",
       "      <td>42</td>\n",
       "      <td>Victoria</td>\n",
       "      <td>HK</td>\n",
       "      <td>2022-04-24 06:05:33</td>\n",
       "      <td>22.2855</td>\n",
       "      <td>114.1577</td>\n",
       "      <td>86.97</td>\n",
       "      <td>73</td>\n",
       "      <td>27</td>\n",
       "      <td>11.01</td>\n",
       "    </tr>\n",
       "    <tr>\n",
       "      <th>44</th>\n",
       "      <td>44</td>\n",
       "      <td>Kavieng</td>\n",
       "      <td>PG</td>\n",
       "      <td>2022-04-24 06:05:39</td>\n",
       "      <td>-2.5744</td>\n",
       "      <td>150.7967</td>\n",
       "      <td>84.54</td>\n",
       "      <td>64</td>\n",
       "      <td>58</td>\n",
       "      <td>11.21</td>\n",
       "    </tr>\n",
       "  </tbody>\n",
       "</table>\n",
       "</div>"
      ],
      "text/plain": [
       "    City_ID               City Country                 Date      Lat  \\\n",
       "4         4    Arraial Do Cabo      BR  2022-04-24 06:05:27 -22.9661   \n",
       "7         7          Mount Isa      AU  2022-04-24 06:01:27 -20.7333   \n",
       "8         8          Mogadishu      SO  2022-04-24 06:05:28   2.0371   \n",
       "14       14           Lorengau      PG  2022-04-24 06:05:30  -2.0226   \n",
       "23       23              Vaini      TO  2022-04-24 06:05:33 -21.2000   \n",
       "29       29             Avarua      CK  2022-04-24 06:03:59 -21.2078   \n",
       "33       33  Puerto El Triunfo      SV  2022-04-24 06:05:36  13.2833   \n",
       "37       37         Ouahigouya      BF  2022-04-24 06:01:31  13.5828   \n",
       "42       42           Victoria      HK  2022-04-24 06:05:33  22.2855   \n",
       "44       44            Kavieng      PG  2022-04-24 06:05:39  -2.5744   \n",
       "\n",
       "         Lng  Max Temp  Humidity  Cloudiness  Wind Speed  \n",
       "4   -42.0278     76.35        86           1        7.72  \n",
       "7   139.5000     78.57        73         100        6.91  \n",
       "8    45.3438     85.28        66          31       12.28  \n",
       "14  147.2712     82.78        77          87        7.83  \n",
       "23 -175.2000     75.36        94          75        0.00  \n",
       "29 -159.7750     77.05        88         100        6.91  \n",
       "33  -88.5500     80.44        76          80        4.36  \n",
       "37   -2.4216     80.08        12          17       11.12  \n",
       "42  114.1577     86.97        73          27       11.01  \n",
       "44  150.7967     84.54        64          58       11.21  "
      ]
     },
     "execution_count": 34,
     "metadata": {},
     "output_type": "execute_result"
    }
   ],
   "source": [
    "# Filter the dataset to find the cities that fit the criteria.\n",
    "preferred_cities_df = city_data_df.loc[(city_data_df[\"Max Temp\"] <= max_temp) & \\\n",
    "                                       (city_data_df[\"Max Temp\"] >= min_temp)]\n",
    "preferred_cities_df.head(10)"
   ]
  },
  {
   "cell_type": "code",
   "execution_count": 35,
   "id": "6868d239",
   "metadata": {},
   "outputs": [
    {
     "data": {
      "text/plain": [
       "City_ID       0\n",
       "City          0\n",
       "Country       0\n",
       "Date          0\n",
       "Lat           0\n",
       "Lng           0\n",
       "Max Temp      0\n",
       "Humidity      0\n",
       "Cloudiness    0\n",
       "Wind Speed    0\n",
       "dtype: int64"
      ]
     },
     "execution_count": 35,
     "metadata": {},
     "output_type": "execute_result"
    }
   ],
   "source": [
    "# Determine if dataframe has any null values \n",
    "preferred_cities_df.isnull().sum()"
   ]
  },
  {
   "cell_type": "code",
   "execution_count": 36,
   "id": "f9f20eb2",
   "metadata": {},
   "outputs": [
    {
     "data": {
      "text/plain": [
       "City_ID       137\n",
       "City          137\n",
       "Country       137\n",
       "Date          137\n",
       "Lat           137\n",
       "Lng           137\n",
       "Max Temp      137\n",
       "Humidity      137\n",
       "Cloudiness    137\n",
       "Wind Speed    137\n",
       "dtype: int64"
      ]
     },
     "execution_count": 36,
     "metadata": {},
     "output_type": "execute_result"
    }
   ],
   "source": [
    "preferred_cities_df.count()"
   ]
  },
  {
   "cell_type": "code",
   "execution_count": 37,
   "id": "3575daf8",
   "metadata": {},
   "outputs": [
    {
     "data": {
      "text/html": [
       "<div>\n",
       "<style scoped>\n",
       "    .dataframe tbody tr th:only-of-type {\n",
       "        vertical-align: middle;\n",
       "    }\n",
       "\n",
       "    .dataframe tbody tr th {\n",
       "        vertical-align: top;\n",
       "    }\n",
       "\n",
       "    .dataframe thead th {\n",
       "        text-align: right;\n",
       "    }\n",
       "</style>\n",
       "<table border=\"1\" class=\"dataframe\">\n",
       "  <thead>\n",
       "    <tr style=\"text-align: right;\">\n",
       "      <th></th>\n",
       "      <th>City</th>\n",
       "      <th>Country</th>\n",
       "      <th>Max Temp</th>\n",
       "      <th>Lat</th>\n",
       "      <th>Lng</th>\n",
       "      <th>Hotel Name</th>\n",
       "    </tr>\n",
       "  </thead>\n",
       "  <tbody>\n",
       "    <tr>\n",
       "      <th>4</th>\n",
       "      <td>Arraial Do Cabo</td>\n",
       "      <td>BR</td>\n",
       "      <td>76.35</td>\n",
       "      <td>-22.9661</td>\n",
       "      <td>-42.0278</td>\n",
       "      <td></td>\n",
       "    </tr>\n",
       "    <tr>\n",
       "      <th>7</th>\n",
       "      <td>Mount Isa</td>\n",
       "      <td>AU</td>\n",
       "      <td>78.57</td>\n",
       "      <td>-20.7333</td>\n",
       "      <td>139.5000</td>\n",
       "      <td></td>\n",
       "    </tr>\n",
       "    <tr>\n",
       "      <th>8</th>\n",
       "      <td>Mogadishu</td>\n",
       "      <td>SO</td>\n",
       "      <td>85.28</td>\n",
       "      <td>2.0371</td>\n",
       "      <td>45.3438</td>\n",
       "      <td></td>\n",
       "    </tr>\n",
       "    <tr>\n",
       "      <th>14</th>\n",
       "      <td>Lorengau</td>\n",
       "      <td>PG</td>\n",
       "      <td>82.78</td>\n",
       "      <td>-2.0226</td>\n",
       "      <td>147.2712</td>\n",
       "      <td></td>\n",
       "    </tr>\n",
       "    <tr>\n",
       "      <th>23</th>\n",
       "      <td>Vaini</td>\n",
       "      <td>TO</td>\n",
       "      <td>75.36</td>\n",
       "      <td>-21.2000</td>\n",
       "      <td>-175.2000</td>\n",
       "      <td></td>\n",
       "    </tr>\n",
       "    <tr>\n",
       "      <th>29</th>\n",
       "      <td>Avarua</td>\n",
       "      <td>CK</td>\n",
       "      <td>77.05</td>\n",
       "      <td>-21.2078</td>\n",
       "      <td>-159.7750</td>\n",
       "      <td></td>\n",
       "    </tr>\n",
       "    <tr>\n",
       "      <th>33</th>\n",
       "      <td>Puerto El Triunfo</td>\n",
       "      <td>SV</td>\n",
       "      <td>80.44</td>\n",
       "      <td>13.2833</td>\n",
       "      <td>-88.5500</td>\n",
       "      <td></td>\n",
       "    </tr>\n",
       "    <tr>\n",
       "      <th>37</th>\n",
       "      <td>Ouahigouya</td>\n",
       "      <td>BF</td>\n",
       "      <td>80.08</td>\n",
       "      <td>13.5828</td>\n",
       "      <td>-2.4216</td>\n",
       "      <td></td>\n",
       "    </tr>\n",
       "    <tr>\n",
       "      <th>42</th>\n",
       "      <td>Victoria</td>\n",
       "      <td>HK</td>\n",
       "      <td>86.97</td>\n",
       "      <td>22.2855</td>\n",
       "      <td>114.1577</td>\n",
       "      <td></td>\n",
       "    </tr>\n",
       "    <tr>\n",
       "      <th>44</th>\n",
       "      <td>Kavieng</td>\n",
       "      <td>PG</td>\n",
       "      <td>84.54</td>\n",
       "      <td>-2.5744</td>\n",
       "      <td>150.7967</td>\n",
       "      <td></td>\n",
       "    </tr>\n",
       "  </tbody>\n",
       "</table>\n",
       "</div>"
      ],
      "text/plain": [
       "                 City Country  Max Temp      Lat       Lng Hotel Name\n",
       "4     Arraial Do Cabo      BR     76.35 -22.9661  -42.0278           \n",
       "7           Mount Isa      AU     78.57 -20.7333  139.5000           \n",
       "8           Mogadishu      SO     85.28   2.0371   45.3438           \n",
       "14           Lorengau      PG     82.78  -2.0226  147.2712           \n",
       "23              Vaini      TO     75.36 -21.2000 -175.2000           \n",
       "29             Avarua      CK     77.05 -21.2078 -159.7750           \n",
       "33  Puerto El Triunfo      SV     80.44  13.2833  -88.5500           \n",
       "37         Ouahigouya      BF     80.08  13.5828   -2.4216           \n",
       "42           Victoria      HK     86.97  22.2855  114.1577           \n",
       "44            Kavieng      PG     84.54  -2.5744  150.7967           "
      ]
     },
     "execution_count": 37,
     "metadata": {},
     "output_type": "execute_result"
    }
   ],
   "source": [
    "# Create DataFrame called hotel_df to store hotel names along with city, country, max temp, and coordinates.\n",
    "hotel_df = preferred_cities_df[[\"City\", \"Country\", \"Max Temp\", \"Lat\", \"Lng\"]].copy()\n",
    "hotel_df[\"Hotel Name\"] = \"\"\n",
    "hotel_df.head(10)"
   ]
  },
  {
   "cell_type": "code",
   "execution_count": 38,
   "id": "c130c557",
   "metadata": {},
   "outputs": [],
   "source": [
    "# Set parameters to search for a hotel.\n",
    "params = {\n",
    "    \"radius\": 5000,\n",
    "    \"type\": \"lodging\",\n",
    "    \"key\": g_key\n",
    "}"
   ]
  },
  {
   "cell_type": "code",
   "execution_count": 41,
   "id": "47efd10e",
   "metadata": {},
   "outputs": [
    {
     "name": "stdout",
     "output_type": "stream",
     "text": [
      "Hotel not found... skipping.\n",
      "Hotel not found... skipping.\n",
      "Hotel not found... skipping.\n",
      "Hotel not found... skipping.\n",
      "Hotel not found... skipping.\n",
      "Hotel not found... skipping.\n",
      "Hotel not found... skipping.\n",
      "Hotel not found... skipping.\n",
      "Hotel not found... skipping.\n",
      "Hotel not found... skipping.\n",
      "Hotel not found... skipping.\n",
      "Hotel not found... skipping.\n",
      "Hotel not found... skipping.\n",
      "Hotel not found... skipping.\n",
      "Hotel not found... skipping.\n"
     ]
    }
   ],
   "source": [
    "# Iterate through the DataFrame.\n",
    "for index, row in hotel_df.iterrows():\n",
    "    # Get the latitude and longitude.\n",
    "    lat = row[\"Lat\"]\n",
    "    lng = row[\"Lng\"]\n",
    "\n",
    "    # Add the latitude and longitude to location key for the params dictionary.\n",
    "    params[\"location\"] = f\"{lat},{lng}\"\n",
    "\n",
    "    # Use the search term: \"lodging\" and our latitude and longitude.\n",
    "    base_url = \"https://maps.googleapis.com/maps/api/place/nearbysearch/json\"\n",
    "    # Make request and get the JSON data from the search.\n",
    "    hotels = requests.get(base_url, params=params).json()\n",
    "    # Grab the first hotel from the results and store the name.\n",
    "    try:\n",
    "        hotel_df.loc[index, \"Hotel Name\"] = hotels[\"results\"][0][\"name\"]\n",
    "    except (IndexError):\n",
    "        print(\"Hotel not found... skipping.\")"
   ]
  },
  {
   "cell_type": "code",
   "execution_count": 47,
   "id": "a04b648f",
   "metadata": {},
   "outputs": [],
   "source": [
    "# Store the DataFrame Row.\n",
    "hotel_info = [info_box_template.format(**row) for index, row in hotel_df.iterrows()]"
   ]
  },
  {
   "cell_type": "code",
   "execution_count": 48,
   "id": "099c70ae",
   "metadata": {},
   "outputs": [
    {
     "data": {
      "application/vnd.jupyter.widget-view+json": {
       "model_id": "088e4e3aab404bcda419c0e72530f6c1",
       "version_major": 2,
       "version_minor": 0
      },
      "text/plain": [
       "Figure(layout=FigureLayout(height='420px'))"
      ]
     },
     "metadata": {},
     "output_type": "display_data"
    }
   ],
   "source": [
    "# Add a heatmap of temperature for the vacation spots.\n",
    "locations = hotel_df[[\"Lat\", \"Lng\"]]\n",
    "max_temp = hotel_df[\"Max Temp\"]\n",
    "fig = gmaps.figure(center=(30.0, 31.0), zoom_level=1.5)\n",
    "heat_layer = gmaps.heatmap_layer(locations, weights=max_temp, dissipating=False,\n",
    "             max_intensity=300, point_radius=4)\n",
    "marker_layer = gmaps.marker_layer(locations, info_box_content=hotel_info)\n",
    "fig.add_layer(heat_layer)\n",
    "fig.add_layer(marker_layer)\n",
    "# Call the figure to plot the data.\n",
    "fig"
   ]
  },
  {
   "cell_type": "code",
   "execution_count": 44,
   "id": "d0209daf",
   "metadata": {},
   "outputs": [],
   "source": [
    "info_box_template = \"\"\"\n",
    "<dl>\n",
    "<dt>Hotel Name</dt><dd>{Hotel Name}</dd>\n",
    "<dt>City</dt><dd>{City}</dd>\n",
    "<dt>Country</dt><dd>{Country}</dd>\n",
    "<dt>Max Temp</dt><dd>{Max Temp} °F</dd>\n",
    "</dl>\n",
    "\"\"\""
   ]
  },
  {
   "cell_type": "code",
   "execution_count": 45,
   "id": "b800af38",
   "metadata": {},
   "outputs": [],
   "source": []
  },
  {
   "cell_type": "code",
   "execution_count": null,
   "id": "1286c3ed",
   "metadata": {},
   "outputs": [],
   "source": []
  }
 ],
 "metadata": {
  "kernelspec": {
   "display_name": "PythonData",
   "language": "python",
   "name": "pythondata"
  },
  "language_info": {
   "codemirror_mode": {
    "name": "ipython",
    "version": 3
   },
   "file_extension": ".py",
   "mimetype": "text/x-python",
   "name": "python",
   "nbconvert_exporter": "python",
   "pygments_lexer": "ipython3",
   "version": "3.7.11"
  }
 },
 "nbformat": 4,
 "nbformat_minor": 5
}
